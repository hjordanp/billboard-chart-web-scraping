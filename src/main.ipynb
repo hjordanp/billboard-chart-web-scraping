{
 "cells": [
  {
   "cell_type": "markdown",
   "metadata": {},
   "source": [
    "# Web Scraping: main Python code"
   ]
  },
  {
   "cell_type": "markdown",
   "metadata": {},
   "source": [
    "hola"
   ]
  },
  {
   "cell_type": "code",
   "execution_count": 10,
   "metadata": {},
   "outputs": [],
   "source": [
    "import sys\n",
    "sys.path\n",
    "sys.path.append('/Users/helenejordan/Desktop/Ciencia de Datos/Segundo/PRIMER SEMESTRE/Tipología y ciclo de vida de los datos/PECs/Practica1/src') "
   ]
  },
  {
   "cell_type": "code",
   "execution_count": 12,
   "metadata": {},
   "outputs": [
    {
     "name": "stdout",
     "output_type": "stream",
     "text": [
      "/Users/helenejordan/Desktop/Ciencia de Datos/Segundo/PRIMER SEMESTRE/Tipología y ciclo de vida de los datos/PECs/Practica1/src\n"
     ]
    },
    {
     "ename": "ModuleNotFoundError",
     "evalue": "No module named 'data_scraping'",
     "output_type": "error",
     "traceback": [
      "\u001b[0;31m---------------------------------------------------------------------------\u001b[0m",
      "\u001b[0;31mModuleNotFoundError\u001b[0m                       Traceback (most recent call last)",
      "\u001b[0;32m<ipython-input-12-62d1d224817e>\u001b[0m in \u001b[0;36m<module>\u001b[0;34m\u001b[0m\n\u001b[1;32m      2\u001b[0m \u001b[0mprint\u001b[0m\u001b[0;34m(\u001b[0m\u001b[0mos\u001b[0m\u001b[0;34m.\u001b[0m\u001b[0mgetcwd\u001b[0m\u001b[0;34m(\u001b[0m\u001b[0;34m)\u001b[0m\u001b[0;34m)\u001b[0m\u001b[0;34m\u001b[0m\u001b[0;34m\u001b[0m\u001b[0m\n\u001b[1;32m      3\u001b[0m \u001b[0;34m\u001b[0m\u001b[0m\n\u001b[0;32m----> 4\u001b[0;31m \u001b[0;32mfrom\u001b[0m \u001b[0mdata_scraping\u001b[0m \u001b[0;32mimport\u001b[0m \u001b[0;34m*\u001b[0m\u001b[0;34m\u001b[0m\u001b[0;34m\u001b[0m\u001b[0m\n\u001b[0m\u001b[1;32m      5\u001b[0m \u001b[0;32mimport\u001b[0m \u001b[0mpandas\u001b[0m \u001b[0;32mas\u001b[0m \u001b[0mpd\u001b[0m\u001b[0;34m\u001b[0m\u001b[0;34m\u001b[0m\u001b[0m\n\u001b[1;32m      6\u001b[0m \u001b[0;32mimport\u001b[0m \u001b[0mdatetime\u001b[0m\u001b[0;34m\u001b[0m\u001b[0;34m\u001b[0m\u001b[0m\n",
      "\u001b[0;31mModuleNotFoundError\u001b[0m: No module named 'data_scraping'"
     ]
    }
   ],
   "source": [
    "import os\n",
    "print(os.getcwd())\n",
    "\n",
    "from data_scraping import *\n",
    "import pandas as pd\n",
    "import datetime\n",
    "import time"
   ]
  },
  {
   "cell_type": "code",
   "execution_count": null,
   "metadata": {},
   "outputs": [],
   "source": [
    "from data_scraping import *\n",
    "import pandas as pd\n",
    "import datetime\n",
    "import time\n",
    "\n",
    "\n",
    "# Parameters\n",
    "\n",
    "# Year of interest\n",
    "year = 2019\n",
    "\n",
    "# Last Saturday\n",
    "today = datetime.date.today()\n",
    "idx = (today.weekday() + 1) % 7\n",
    "this_saturday = today + datetime.timedelta(7 + idx - 5)\n",
    "\n",
    "# URL for last saturday's Billboard Hot 100 Chart\n",
    "hot_100_chart = \"https://www.billboard.com/charts/hot-100\"\n",
    "\n",
    "# Create empty list to append the urls of the hot 100 Billboard charts of the year of interest\n",
    "pages_urls = []\n",
    "\n",
    "# Get all saturdays of the year of interest\n",
    "saturday_list = all_saturday(year)\n",
    "\n",
    "# Create the urls for all the urls of the hot 100 Billboard charts of the year of interest\n",
    "for i in saturday_list:\n",
    "    # Let's make sure that the url exists\n",
    "    if requests.get(hot_100_chart).status_code == 200:\n",
    "        hot_100_chart_loop = hot_100_chart + \"/\" + i\n",
    "        pages_urls.append(hot_100_chart_loop)\n",
    "        print(hot_100_chart_loop)\n",
    "\n",
    "\n",
    "columns = ['week', 'rank', 'rise', 'rise_nb', 'name', 'artist', 'last_week', 'peak', 'week_chart']\n",
    "df_yearly_chart = pd.DataFrame(columns=columns)\n",
    "\n",
    "\n",
    "for page in pages_urls:\n",
    "    scraped_data = get_song_info(page)\n",
    "    time.sleep(5)\n",
    "    df_yearly_chart = df_yearly_chart.append(pd.DataFrame(data=scraped_data), ignore_index=True)\n",
    "\n",
    "\n",
    "yearly_hot_100_chart.to_csv('df_yearly_chart.csv', sep=';', index=False)\n"
   ]
  },
  {
   "cell_type": "code",
   "execution_count": null,
   "metadata": {},
   "outputs": [],
   "source": []
  },
  {
   "cell_type": "code",
   "execution_count": null,
   "metadata": {},
   "outputs": [],
   "source": []
  },
  {
   "cell_type": "code",
   "execution_count": null,
   "metadata": {},
   "outputs": [],
   "source": []
  },
  {
   "cell_type": "code",
   "execution_count": null,
   "metadata": {},
   "outputs": [],
   "source": []
  },
  {
   "cell_type": "code",
   "execution_count": null,
   "metadata": {},
   "outputs": [],
   "source": []
  },
  {
   "cell_type": "code",
   "execution_count": null,
   "metadata": {},
   "outputs": [],
   "source": []
  }
 ],
 "metadata": {
  "kernelspec": {
   "display_name": "Python 3",
   "language": "python",
   "name": "python3"
  },
  "language_info": {
   "codemirror_mode": {
    "name": "ipython",
    "version": 3
   },
   "file_extension": ".py",
   "mimetype": "text/x-python",
   "name": "python",
   "nbconvert_exporter": "python",
   "pygments_lexer": "ipython3",
   "version": "3.7.1"
  }
 },
 "nbformat": 4,
 "nbformat_minor": 2
}
